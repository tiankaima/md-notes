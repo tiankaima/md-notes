{
 "cells": [
  {
   "cell_type": "markdown",
   "metadata": {},
   "source": [
    "# Playground / LeNet\n",
    "\n",
    "Here we use LeNet as an example to show how to train a model in TensorFlow."
   ]
  },
  {
   "cell_type": "code",
   "execution_count": 1,
   "metadata": {},
   "outputs": [],
   "source": [
    "import tensorflow as tf\n",
    "import numpy as np\n",
    "import matplotlib.pyplot as plt\n",
    "from keras import layers, models\n",
    "from keras.datasets import mnist\n",
    "from keras.utils import to_categorical"
   ]
  },
  {
   "cell_type": "code",
   "execution_count": 2,
   "metadata": {},
   "outputs": [
    {
     "name": "stdout",
     "output_type": "stream",
     "text": [
      "[]\n"
     ]
    }
   ],
   "source": [
    "print(tf.config.experimental.list_physical_devices('GPU'))"
   ]
  },
  {
   "cell_type": "code",
   "execution_count": 3,
   "metadata": {},
   "outputs": [
    {
     "name": "stdout",
     "output_type": "stream",
     "text": [
      "(60000, 28, 28)\n"
     ]
    }
   ],
   "source": [
    "(train_imgs, train_labels), (test_imgs, test_labels) = mnist.load_data()\n",
    "\n",
    "print(train_imgs.shape)  # (60000, 28, 28)"
   ]
  },
  {
   "cell_type": "code",
   "execution_count": 4,
   "metadata": {},
   "outputs": [],
   "source": [
    "models = models.Sequential(\n",
    "    [\n",
    "        layers.Conv2D(\n",
    "            filters=6,\n",
    "            kernel_size=5,\n",
    "            activation=\"sigmoid\",\n",
    "            padding=\"same\",\n",
    "        ),\n",
    "        layers.AvgPool2D(pool_size=2, strides=2),\n",
    "        layers.Conv2D(\n",
    "            filters=16,\n",
    "            kernel_size=5,\n",
    "            activation=\"sigmoid\",\n",
    "            padding=\"valid\",\n",
    "        ),\n",
    "        layers.AvgPool2D(pool_size=2, strides=2),\n",
    "        layers.Flatten(),\n",
    "        layers.Dense(120, activation=\"sigmoid\"),\n",
    "        layers.Dense(84, activation=\"sigmoid\"),\n",
    "        layers.Dense(10, activation=\"softmax\"),\n",
    "    ]\n",
    ")"
   ]
  },
  {
   "cell_type": "code",
   "execution_count": 5,
   "metadata": {},
   "outputs": [
    {
     "name": "stdout",
     "output_type": "stream",
     "text": [
      "Conv2D output shape:\t (1, 28, 28, 6)\n",
      "AveragePooling2D output shape:\t (1, 14, 14, 6)\n",
      "Conv2D output shape:\t (1, 10, 10, 16)\n",
      "AveragePooling2D output shape:\t (1, 5, 5, 16)\n",
      "Flatten output shape:\t (1, 400)\n",
      "Dense output shape:\t (1, 120)\n",
      "Dense output shape:\t (1, 84)\n",
      "Dense output shape:\t (1, 10)\n"
     ]
    }
   ],
   "source": [
    "X = tf.random.uniform((1, 28, 28, 1))\n",
    "for layer in models.layers:\n",
    "    X = layer(X)\n",
    "    print(layer.__class__.__name__, \"output shape:\\t\", X.shape)"
   ]
  },
  {
   "cell_type": "code",
   "execution_count": 6,
   "metadata": {},
   "outputs": [
    {
     "name": "stdout",
     "output_type": "stream",
     "text": [
      "Epoch 1/20\n",
      "\u001b[1m469/469\u001b[0m \u001b[32m━━━━━━━━━━━━━━━━━━━━\u001b[0m\u001b[37m\u001b[0m \u001b[1m8s\u001b[0m 15ms/step - accuracy: 0.2700 - loss: 2.0008 - val_accuracy: 0.8641 - val_loss: 0.5076\n",
      "Epoch 2/20\n",
      "\u001b[1m469/469\u001b[0m \u001b[32m━━━━━━━━━━━━━━━━━━━━\u001b[0m\u001b[37m\u001b[0m \u001b[1m7s\u001b[0m 14ms/step - accuracy: 0.8787 - loss: 0.4315 - val_accuracy: 0.9188 - val_loss: 0.2758\n",
      "Epoch 3/20\n",
      "\u001b[1m469/469\u001b[0m \u001b[32m━━━━━━━━━━━━━━━━━━━━\u001b[0m\u001b[37m\u001b[0m \u001b[1m6s\u001b[0m 14ms/step - accuracy: 0.9210 - loss: 0.2627 - val_accuracy: 0.9407 - val_loss: 0.1938\n",
      "Epoch 4/20\n",
      "\u001b[1m469/469\u001b[0m \u001b[32m━━━━━━━━━━━━━━━━━━━━\u001b[0m\u001b[37m\u001b[0m \u001b[1m7s\u001b[0m 14ms/step - accuracy: 0.9413 - loss: 0.1927 - val_accuracy: 0.9482 - val_loss: 0.1610\n",
      "Epoch 5/20\n",
      "\u001b[1m469/469\u001b[0m \u001b[32m━━━━━━━━━━━━━━━━━━━━\u001b[0m\u001b[37m\u001b[0m \u001b[1m7s\u001b[0m 14ms/step - accuracy: 0.9536 - loss: 0.1529 - val_accuracy: 0.9630 - val_loss: 0.1234\n",
      "Epoch 6/20\n",
      "\u001b[1m469/469\u001b[0m \u001b[32m━━━━━━━━━━━━━━━━━━━━\u001b[0m\u001b[37m\u001b[0m \u001b[1m7s\u001b[0m 14ms/step - accuracy: 0.9609 - loss: 0.1269 - val_accuracy: 0.9646 - val_loss: 0.1162\n",
      "Epoch 7/20\n",
      "\u001b[1m469/469\u001b[0m \u001b[32m━━━━━━━━━━━━━━━━━━━━\u001b[0m\u001b[37m\u001b[0m \u001b[1m7s\u001b[0m 14ms/step - accuracy: 0.9660 - loss: 0.1097 - val_accuracy: 0.9738 - val_loss: 0.0890\n",
      "Epoch 8/20\n",
      "\u001b[1m469/469\u001b[0m \u001b[32m━━━━━━━━━━━━━━━━━━━━\u001b[0m\u001b[37m\u001b[0m \u001b[1m7s\u001b[0m 15ms/step - accuracy: 0.9703 - loss: 0.0950 - val_accuracy: 0.9763 - val_loss: 0.0778\n",
      "Epoch 9/20\n",
      "\u001b[1m469/469\u001b[0m \u001b[32m━━━━━━━━━━━━━━━━━━━━\u001b[0m\u001b[37m\u001b[0m \u001b[1m7s\u001b[0m 16ms/step - accuracy: 0.9742 - loss: 0.0829 - val_accuracy: 0.9780 - val_loss: 0.0726\n",
      "Epoch 10/20\n",
      "\u001b[1m469/469\u001b[0m \u001b[32m━━━━━━━━━━━━━━━━━━━━\u001b[0m\u001b[37m\u001b[0m \u001b[1m8s\u001b[0m 17ms/step - accuracy: 0.9765 - loss: 0.0762 - val_accuracy: 0.9782 - val_loss: 0.0693\n",
      "Epoch 11/20\n",
      "\u001b[1m469/469\u001b[0m \u001b[32m━━━━━━━━━━━━━━━━━━━━\u001b[0m\u001b[37m\u001b[0m \u001b[1m7s\u001b[0m 16ms/step - accuracy: 0.9806 - loss: 0.0655 - val_accuracy: 0.9823 - val_loss: 0.0571\n",
      "Epoch 12/20\n",
      "\u001b[1m469/469\u001b[0m \u001b[32m━━━━━━━━━━━━━━━━━━━━\u001b[0m\u001b[37m\u001b[0m \u001b[1m8s\u001b[0m 17ms/step - accuracy: 0.9814 - loss: 0.0601 - val_accuracy: 0.9817 - val_loss: 0.0599\n",
      "Epoch 13/20\n",
      "\u001b[1m469/469\u001b[0m \u001b[32m━━━━━━━━━━━━━━━━━━━━\u001b[0m\u001b[37m\u001b[0m \u001b[1m7s\u001b[0m 15ms/step - accuracy: 0.9835 - loss: 0.0544 - val_accuracy: 0.9840 - val_loss: 0.0507\n",
      "Epoch 14/20\n",
      "\u001b[1m469/469\u001b[0m \u001b[32m━━━━━━━━━━━━━━━━━━━━\u001b[0m\u001b[37m\u001b[0m \u001b[1m7s\u001b[0m 16ms/step - accuracy: 0.9840 - loss: 0.0515 - val_accuracy: 0.9819 - val_loss: 0.0555\n",
      "Epoch 15/20\n",
      "\u001b[1m469/469\u001b[0m \u001b[32m━━━━━━━━━━━━━━━━━━━━\u001b[0m\u001b[37m\u001b[0m \u001b[1m8s\u001b[0m 17ms/step - accuracy: 0.9848 - loss: 0.0477 - val_accuracy: 0.9829 - val_loss: 0.0529\n",
      "Epoch 16/20\n",
      "\u001b[1m469/469\u001b[0m \u001b[32m━━━━━━━━━━━━━━━━━━━━\u001b[0m\u001b[37m\u001b[0m \u001b[1m8s\u001b[0m 17ms/step - accuracy: 0.9861 - loss: 0.0445 - val_accuracy: 0.9843 - val_loss: 0.0479\n",
      "Epoch 17/20\n",
      "\u001b[1m469/469\u001b[0m \u001b[32m━━━━━━━━━━━━━━━━━━━━\u001b[0m\u001b[37m\u001b[0m \u001b[1m7s\u001b[0m 15ms/step - accuracy: 0.9865 - loss: 0.0424 - val_accuracy: 0.9842 - val_loss: 0.0477\n",
      "Epoch 18/20\n",
      "\u001b[1m469/469\u001b[0m \u001b[32m━━━━━━━━━━━━━━━━━━━━\u001b[0m\u001b[37m\u001b[0m \u001b[1m7s\u001b[0m 15ms/step - accuracy: 0.9877 - loss: 0.0398 - val_accuracy: 0.9860 - val_loss: 0.0419\n",
      "Epoch 19/20\n",
      "\u001b[1m469/469\u001b[0m \u001b[32m━━━━━━━━━━━━━━━━━━━━\u001b[0m\u001b[37m\u001b[0m \u001b[1m7s\u001b[0m 15ms/step - accuracy: 0.9885 - loss: 0.0384 - val_accuracy: 0.9847 - val_loss: 0.0442\n",
      "Epoch 20/20\n",
      "\u001b[1m469/469\u001b[0m \u001b[32m━━━━━━━━━━━━━━━━━━━━\u001b[0m\u001b[37m\u001b[0m \u001b[1m7s\u001b[0m 15ms/step - accuracy: 0.9896 - loss: 0.0354 - val_accuracy: 0.9852 - val_loss: 0.0441\n"
     ]
    }
   ],
   "source": [
    "# training:\n",
    "train_imgs = train_imgs.reshape((60000, 28, 28, 1))\n",
    "train_imgs = train_imgs.astype(\"float32\") / 255\n",
    "test_imgs = test_imgs.reshape((10000, 28, 28, 1))\n",
    "test_imgs = test_imgs.astype(\"float32\") / 255\n",
    "train_labels_ = to_categorical(train_labels)\n",
    "test_labels_ = to_categorical(test_labels)\n",
    "\n",
    "models.compile(\n",
    "    optimizer=\"adam\",\n",
    "    loss=\"categorical_crossentropy\",\n",
    "    metrics=[\"accuracy\"],\n",
    ")\n",
    "\n",
    "history = models.fit(\n",
    "    train_imgs,\n",
    "    train_labels_,\n",
    "    epochs=20,\n",
    "    batch_size=128,\n",
    "    validation_data=(test_imgs, test_labels_),\n",
    ")"
   ]
  },
  {
   "cell_type": "code",
   "execution_count": 8,
   "metadata": {},
   "outputs": [
    {
     "data": {
      "image/png": "[encoded data removed]",
      "text/plain": [
       "<Figure size 640x480 with 2 Axes>"
      ]
     },
     "metadata": {},
     "output_type": "display_data"
    }
   ],
   "source": [
    "# plot:\n",
    "plt.subplot(121)\n",
    "plt.plot(history.history[\"accuracy\"], label=\"accuracy\")\n",
    "plt.plot(history.history[\"val_accuracy\"], label=\"val_accuracy\")\n",
    "plt.title(\"accuracy\")\n",
    "_ = plt.legend()\n",
    "plt.subplot(122)\n",
    "plt.plot(history.history[\"loss\"], label=\"train_loss\")\n",
    "plt.plot(history.history[\"val_loss\"], label=\"val_loss\")\n",
    "plt.title(\"loss\")\n",
    "_ = plt.legend()"
   ]
  },
  {
   "cell_type": "code",
   "execution_count": null,
   "metadata": {},
   "outputs": [],
   "source": []
  }
 ],
 "metadata": {
  "kernelspec": {
   "display_name": "Python 3",
   "language": "python",
   "name": "python3"
  },
  "language_info": {
   "codemirror_mode": {
    "name": "ipython",
    "version": 3
   },
   "file_extension": ".py",
   "mimetype": "text/x-python",
   "name": "python",
   "nbconvert_exporter": "python",
   "pygments_lexer": "ipython3",
   "version": "3.10.14"
  }
 },
 "nbformat": 4,
 "nbformat_minor": 2
}
